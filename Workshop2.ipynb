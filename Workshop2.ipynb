{
  "nbformat": 4,
  "nbformat_minor": 0,
  "metadata": {
    "colab": {
      "provenance": []
    },
    "kernelspec": {
      "name": "python3",
      "display_name": "Python 3"
    },
    "language_info": {
      "name": "python"
    }
  },
  "cells": [
    {
      "cell_type": "code",
      "execution_count": 2,
      "metadata": {
        "colab": {
          "base_uri": "https://localhost:8080/"
        },
        "id": "WG0k7Gsm15n_",
        "outputId": "6b7ceb16-610c-4967-e684-2535aa8f8174"
      },
      "outputs": [
        {
          "output_type": "stream",
          "name": "stdout",
          "text": [
            "Dataset Info:\n",
            "<class 'pandas.core.frame.DataFrame'>\n",
            "RangeIndex: 45211 entries, 0 to 45210\n",
            "Data columns (total 17 columns):\n",
            " #   Column     Non-Null Count  Dtype \n",
            "---  ------     --------------  ----- \n",
            " 0   age        45211 non-null  int64 \n",
            " 1   job        45211 non-null  object\n",
            " 2   marital    45211 non-null  object\n",
            " 3   education  45211 non-null  object\n",
            " 4   default    45211 non-null  object\n",
            " 5   balance    45211 non-null  int64 \n",
            " 6   housing    45211 non-null  object\n",
            " 7   loan       45211 non-null  object\n",
            " 8   contact    45211 non-null  object\n",
            " 9   day        45211 non-null  int64 \n",
            " 10  month      45211 non-null  object\n",
            " 11  duration   45211 non-null  int64 \n",
            " 12  campaign   45211 non-null  int64 \n",
            " 13  pdays      45211 non-null  int64 \n",
            " 14  previous   45211 non-null  int64 \n",
            " 15  poutcome   45211 non-null  object\n",
            " 16  y          45211 non-null  object\n",
            "dtypes: int64(7), object(10)\n",
            "memory usage: 5.9+ MB\n",
            "\n",
            "Columns with dtype=object:\n",
            "Index(['job', 'marital', 'education', 'default', 'housing', 'loan', 'contact',\n",
            "       'month', 'poutcome', 'y'],\n",
            "      dtype='object')\n",
            "\n",
            "Unique values of object columns:\n",
            "job: ['management' 'technician' 'entrepreneur' 'blue-collar' 'unknown'\n",
            " 'retired' 'admin.' 'services' 'self-employed' 'unemployed' 'housemaid'\n",
            " 'student']\n",
            "marital: ['married' 'single' 'divorced']\n",
            "education: ['tertiary' 'secondary' 'unknown' 'primary']\n",
            "default: ['no' 'yes']\n",
            "housing: ['yes' 'no']\n",
            "loan: ['no' 'yes']\n",
            "contact: ['unknown' 'cellular' 'telephone']\n",
            "month: ['may' 'jun' 'jul' 'aug' 'oct' 'nov' 'dec' 'jan' 'feb' 'mar' 'apr' 'sep']\n",
            "poutcome: ['unknown' 'failure' 'other' 'success']\n",
            "y: ['no' 'yes']\n",
            "\n",
            "Total number of null values in each column:\n",
            "age          0\n",
            "job          0\n",
            "marital      0\n",
            "education    0\n",
            "default      0\n",
            "balance      0\n",
            "housing      0\n",
            "loan         0\n",
            "contact      0\n",
            "day          0\n",
            "month        0\n",
            "duration     0\n",
            "campaign     0\n",
            "pdays        0\n",
            "previous     0\n",
            "poutcome     0\n",
            "y            0\n",
            "dtype: int64\n",
            "\n",
            "Numeric data saved to 'banknumericdata.csv'.\n",
            "\n",
            "Summary statistics of numeric data:\n",
            "                age        balance           day      duration      campaign  \\\n",
            "count  45211.000000   45211.000000  45211.000000  45211.000000  45211.000000   \n",
            "mean      40.936210    1362.272058     15.806419    258.163080      2.763841   \n",
            "std       10.618762    3044.765829      8.322476    257.527812      3.098021   \n",
            "min       18.000000   -8019.000000      1.000000      0.000000      1.000000   \n",
            "25%       33.000000      72.000000      8.000000    103.000000      1.000000   \n",
            "50%       39.000000     448.000000     16.000000    180.000000      2.000000   \n",
            "75%       48.000000    1428.000000     21.000000    319.000000      3.000000   \n",
            "max       95.000000  102127.000000     31.000000   4918.000000     63.000000   \n",
            "\n",
            "              pdays      previous  \n",
            "count  45211.000000  45211.000000  \n",
            "mean      40.197828      0.580323  \n",
            "std      100.128746      2.303441  \n",
            "min       -1.000000      0.000000  \n",
            "25%       -1.000000      0.000000  \n",
            "50%       -1.000000      0.000000  \n",
            "75%       -1.000000      0.000000  \n",
            "max      871.000000    275.000000  \n"
          ]
        }
      ],
      "source": [
        "3.1 #Problem1\n",
        "\n",
        "import pandas as pd\n",
        "import pandas as pd\n",
        "\n",
        "# Load the dataset\n",
        "df = pd.read_csv(\"/content/drive/MyDrive/Concepts and technology  of AI/bank .csv\")\n",
        "\n",
        "print(\"Dataset Info:\")\n",
        "df.info()\n",
        "\n",
        "object_columns = df.select_dtypes(include=['object']).columns\n",
        "print(\"\\nColumns with dtype=object:\")\n",
        "print(object_columns)\n",
        "print(\"\\nUnique values of object columns:\")\n",
        "\n",
        "for col in object_columns:\n",
        "    print(f\"{col}: {df[col].unique()}\")\n",
        "null_values = df.isnull().sum()\n",
        "print(\"\\nTotal number of null values in each column:\")\n",
        "print(null_values)\n",
        "\n",
        "numeric_df = df.select_dtypes(exclude=['object'])\n",
        "numeric_df.to_csv(\"banknumericdata.csv\", index=False)\n",
        "print(\"\\nNumeric data saved to 'banknumericdata.csv'.\")\n",
        "\n",
        "numeric_df_loaded = pd.read_csv(\"banknumericdata.csv\")\n",
        "print(\"\\nSummary statistics of numeric data:\")\n",
        "print(numeric_df_loaded.describe())\n"
      ]
    },
    {
      "cell_type": "code",
      "source": [
        "#Problem2\n",
        "\n",
        "import pandas as pd\n",
        "\n",
        "# Load the dataset\n",
        "df = pd.read_csv(\"/content/drive/MyDrive/Concepts and technology  of AI/medical_students_dataset.csv\")\n",
        "\n",
        "print(\"Dataset Info:\")\n",
        "df.info()\n",
        "\n",
        "missing_values = df.isnull().sum()\n",
        "print(\"\\nColumns with missing (null) values:\")\n",
        "print(missing_values[missing_values > 0])\n",
        "\n",
        "if 'NumericalColumn' in df.columns:\n",
        "    df['NumericalColumn'].fillna(df['NumericalColumn'].mean(), inplace=True)\n",
        "    print(\"\\nFilled missing values in 'NumericalColumn' with mean.\")\n",
        "\n",
        "if 'CategoricalColumn' in df.columns:\n",
        "    df['CategoricalColumn'].fillna(df['CategoricalColumn'].mode()[0], inplace=True)\n",
        "    print(\"Filled missing values in 'CategoricalColumn' with mode.\")\n",
        "\n",
        "if 'AnotherColumn' in df.columns:\n",
        "    df['AnotherColumn'].fillna('Unknown', inplace=True)\n",
        "    print(\"Filled missing values in 'AnotherColumn' with a constant value.\")\n",
        "\n",
        "duplicate_count = df.duplicated().sum()\n",
        "print(f\"\\nNumber of duplicate rows: {duplicate_count}\")\n",
        "\n",
        "if duplicate_count > 0:\n",
        "    df = df.drop_duplicates()\n",
        "    print(\"Duplicate rows removed.\")\n",
        "\n",
        "# Save the cleaned dataset to a new CSV file\n",
        "df.to_csv(\"cleaned_medical_student.csv\", index=False)\n",
        "print(\"\\nCleaned dataset saved to 'cleaned_medical_student.csv'.\")\n"
      ],
      "metadata": {
        "colab": {
          "base_uri": "https://localhost:8080/"
        },
        "id": "xOw26j1L7Ysl",
        "outputId": "ecb1ff1e-63b9-41e4-9e49-9411163b2ec9"
      },
      "execution_count": 3,
      "outputs": [
        {
          "output_type": "stream",
          "name": "stdout",
          "text": [
            "Dataset Info:\n",
            "<class 'pandas.core.frame.DataFrame'>\n",
            "RangeIndex: 200000 entries, 0 to 199999\n",
            "Data columns (total 13 columns):\n",
            " #   Column          Non-Null Count   Dtype  \n",
            "---  ------          --------------   -----  \n",
            " 0   Student ID      180000 non-null  float64\n",
            " 1   Age             180000 non-null  float64\n",
            " 2   Gender          180000 non-null  object \n",
            " 3   Height          180000 non-null  float64\n",
            " 4   Weight          180000 non-null  float64\n",
            " 5   Blood Type      180000 non-null  object \n",
            " 6   BMI             180000 non-null  float64\n",
            " 7   Temperature     180000 non-null  float64\n",
            " 8   Heart Rate      180000 non-null  float64\n",
            " 9   Blood Pressure  180000 non-null  float64\n",
            " 10  Cholesterol     180000 non-null  float64\n",
            " 11  Diabetes        180000 non-null  object \n",
            " 12  Smoking         180000 non-null  object \n",
            "dtypes: float64(9), object(4)\n",
            "memory usage: 19.8+ MB\n",
            "\n",
            "Columns with missing (null) values:\n",
            "Student ID        20000\n",
            "Age               20000\n",
            "Gender            20000\n",
            "Height            20000\n",
            "Weight            20000\n",
            "Blood Type        20000\n",
            "BMI               20000\n",
            "Temperature       20000\n",
            "Heart Rate        20000\n",
            "Blood Pressure    20000\n",
            "Cholesterol       20000\n",
            "Diabetes          20000\n",
            "Smoking           20000\n",
            "dtype: int64\n",
            "\n",
            "Number of duplicate rows: 7644\n",
            "Duplicate rows removed.\n",
            "\n",
            "Cleaned dataset saved to 'cleaned_medical_student.csv'.\n"
          ]
        }
      ]
    },
    {
      "cell_type": "code",
      "source": [
        "3.2 #Problem1\n",
        "import pandas as pd\n",
        "\n",
        "# Load the dataset\n",
        "df = pd.read_csv('/content/drive/MyDrive/Concepts and technology  of AI/ Titanic-Dataset.csv')\n",
        "\n",
        "subset_df = df[['Name', 'Pclass', 'Sex', 'Age', 'Fare', 'Survived']]\n",
        "\n",
        "first_class_df = subset_df[subset_df['Pclass'] == 1]\n",
        "\n",
        "fare_mean = first_class_df['Fare'].mean()\n",
        "fare_median = first_class_df['Fare'].median()\n",
        "fare_max = first_class_df['Fare'].max()\n",
        "fare_min = first_class_df['Fare'].min()\n",
        "\n",
        "print(\"Statistics for the 'Fare' column of first-class passengers:\")\n",
        "print(f\"Mean Fare: {fare_mean}\")\n",
        "print(f\"Median Fare: {fare_median}\")\n",
        "print(f\"Maximum Fare: {fare_max}\")\n",
        "print(f\"Minimum Fare: {fare_min}\")\n",
        "\n",
        "print(\"\\nFirst 5 rows of the filtered DataFrame:\")\n",
        "print(first_class_df.head())\n"
      ],
      "metadata": {
        "colab": {
          "base_uri": "https://localhost:8080/"
        },
        "id": "SnwfP9W8Dsh0",
        "outputId": "adeef003-baca-4a33-cda1-11b9b369b2f9"
      },
      "execution_count": 3,
      "outputs": [
        {
          "output_type": "stream",
          "name": "stdout",
          "text": [
            "Statistics for the 'Fare' column of first-class passengers:\n",
            "Mean Fare: 84.1546875\n",
            "Median Fare: 60.287499999999994\n",
            "Maximum Fare: 512.3292\n",
            "Minimum Fare: 0.0\n",
            "\n",
            "First 5 rows of the filtered DataFrame:\n",
            "                                                 Name  Pclass     Sex   Age  \\\n",
            "1   Cumings, Mrs. John Bradley (Florence Briggs Th...       1  female  38.0   \n",
            "3        Futrelle, Mrs. Jacques Heath (Lily May Peel)       1  female  35.0   \n",
            "6                             McCarthy, Mr. Timothy J       1    male  54.0   \n",
            "11                           Bonnell, Miss. Elizabeth       1  female  58.0   \n",
            "23                       Sloper, Mr. William Thompson       1    male  28.0   \n",
            "\n",
            "       Fare  Survived  \n",
            "1   71.2833         1  \n",
            "3   53.1000         1  \n",
            "6   51.8625         0  \n",
            "11  26.5500         1  \n",
            "23  35.5000         1  \n"
          ]
        }
      ]
    },
    {
      "cell_type": "code",
      "source": [
        "#Problem2\n",
        "import pandas as pd\n",
        "\n",
        "# Load the dataset\n",
        "df = pd.read_csv('/content/drive/MyDrive/Concepts and technology  of AI/ Titanic-Dataset.csv')\n",
        "\n",
        "subset_df = df[['Name', 'Pclass', 'Sex', 'Age', 'Fare', 'Survived']]\n",
        "\n",
        "null_age_count = subset_df['Age'].isnull().sum()\n",
        "\n",
        "print(f\"Number of null values in the 'Age' column: {null_age_count}\")\n",
        "\n",
        "cleaned_df = subset_df.dropna(subset=['Age'])\n",
        "\n",
        "null_age_count_after = cleaned_df['Age'].isnull().sum()\n",
        "\n",
        "print(\"\\nDataFrame after dropping rows with null 'Age' values:\")\n",
        "print(cleaned_df.head())\n",
        "print(f\"\\nRemaining null values in the 'Age' column: {null_age_count_after}\")\n"
      ],
      "metadata": {
        "colab": {
          "base_uri": "https://localhost:8080/"
        },
        "id": "W6mlp3GtFnQx",
        "outputId": "5b8f36ce-98d1-43ec-af88-02a4c0c11955"
      },
      "execution_count": 4,
      "outputs": [
        {
          "output_type": "stream",
          "name": "stdout",
          "text": [
            "Number of null values in the 'Age' column: 177\n",
            "\n",
            "DataFrame after dropping rows with null 'Age' values:\n",
            "                                                Name  Pclass     Sex   Age  \\\n",
            "0                            Braund, Mr. Owen Harris       3    male  22.0   \n",
            "1  Cumings, Mrs. John Bradley (Florence Briggs Th...       1  female  38.0   \n",
            "2                             Heikkinen, Miss. Laina       3  female  26.0   \n",
            "3       Futrelle, Mrs. Jacques Heath (Lily May Peel)       1  female  35.0   \n",
            "4                           Allen, Mr. William Henry       3    male  35.0   \n",
            "\n",
            "      Fare  Survived  \n",
            "0   7.2500         0  \n",
            "1  71.2833         1  \n",
            "2   7.9250         1  \n",
            "3  53.1000         1  \n",
            "4   8.0500         0  \n",
            "\n",
            "Remaining null values in the 'Age' column: 0\n"
          ]
        }
      ]
    },
    {
      "cell_type": "code",
      "source": [
        "#Problem3\n",
        "import pandas as pd\n",
        "\n",
        "# Load the Titanic dataset\n",
        "df = pd.read_csv('/content/drive/MyDrive/Concepts and technology  of AI/ Titanic-Dataset.csv')\n",
        "\n",
        "print(\"Original DataFrame:\")\n",
        "print(df.head())\n",
        "\n",
        "embarked_dummies = pd.get_dummies(df['Embarked'], prefix='Embarked')\n",
        "\n",
        "df = pd.concat([df, embarked_dummies], axis=1)\n",
        "\n",
        "df.drop(columns=['Embarked'], inplace=True)\n",
        "\n",
        "print(\"\\nModified DataFrame after one-hot encoding and dropping 'Embarked':\")\n",
        "print(df.head())\n"
      ],
      "metadata": {
        "colab": {
          "base_uri": "https://localhost:8080/"
        },
        "id": "LorAH8QoHfqb",
        "outputId": "3e39fc9a-c278-41cc-ce18-110fb4d3004f"
      },
      "execution_count": 1,
      "outputs": [
        {
          "output_type": "stream",
          "name": "stdout",
          "text": [
            "Original DataFrame:\n",
            "   PassengerId  Survived  Pclass  \\\n",
            "0            1         0       3   \n",
            "1            2         1       1   \n",
            "2            3         1       3   \n",
            "3            4         1       1   \n",
            "4            5         0       3   \n",
            "\n",
            "                                                Name     Sex   Age  SibSp  \\\n",
            "0                            Braund, Mr. Owen Harris    male  22.0      1   \n",
            "1  Cumings, Mrs. John Bradley (Florence Briggs Th...  female  38.0      1   \n",
            "2                             Heikkinen, Miss. Laina  female  26.0      0   \n",
            "3       Futrelle, Mrs. Jacques Heath (Lily May Peel)  female  35.0      1   \n",
            "4                           Allen, Mr. William Henry    male  35.0      0   \n",
            "\n",
            "   Parch            Ticket     Fare Cabin Embarked  \n",
            "0      0         A/5 21171   7.2500   NaN        S  \n",
            "1      0          PC 17599  71.2833   C85        C  \n",
            "2      0  STON/O2. 3101282   7.9250   NaN        S  \n",
            "3      0            113803  53.1000  C123        S  \n",
            "4      0            373450   8.0500   NaN        S  \n",
            "\n",
            "Modified DataFrame after one-hot encoding and dropping 'Embarked':\n",
            "   PassengerId  Survived  Pclass  \\\n",
            "0            1         0       3   \n",
            "1            2         1       1   \n",
            "2            3         1       3   \n",
            "3            4         1       1   \n",
            "4            5         0       3   \n",
            "\n",
            "                                                Name     Sex   Age  SibSp  \\\n",
            "0                            Braund, Mr. Owen Harris    male  22.0      1   \n",
            "1  Cumings, Mrs. John Bradley (Florence Briggs Th...  female  38.0      1   \n",
            "2                             Heikkinen, Miss. Laina  female  26.0      0   \n",
            "3       Futrelle, Mrs. Jacques Heath (Lily May Peel)  female  35.0      1   \n",
            "4                           Allen, Mr. William Henry    male  35.0      0   \n",
            "\n",
            "   Parch            Ticket     Fare Cabin  Embarked_C  Embarked_Q  Embarked_S  \n",
            "0      0         A/5 21171   7.2500   NaN       False       False        True  \n",
            "1      0          PC 17599  71.2833   C85        True       False       False  \n",
            "2      0  STON/O2. 3101282   7.9250   NaN       False       False        True  \n",
            "3      0            113803  53.1000  C123       False       False        True  \n",
            "4      0            373450   8.0500   NaN       False       False        True  \n"
          ]
        }
      ]
    },
    {
      "cell_type": "code",
      "source": [
        "#Problem4\n",
        "import pandas as pd\n",
        "import seaborn as sns\n",
        "import matplotlib.pyplot as plt\n",
        "\n",
        "# Load the Titanic dataset\n",
        "df = pd.read_csv('/content/drive/MyDrive/Concepts and technology  of AI/ Titanic-Dataset.csv')\n",
        "\n",
        "mean_survival_rates = df.groupby('Sex')['Survived'].mean()\n",
        "print(\"Mean Survival Rates by Gender:\")\n",
        "print(mean_survival_rates)\n",
        "\n",
        "plt.figure(figsize=(10, 6))\n",
        "sns.histplot(data=df, x='Survived', hue='Sex', multiple='stack', bins=3, kde=False, palette='pastel')\n",
        "plt.title('Survival Distribution by Gender', fontsize=16)\n",
        "plt.xlabel('Survived (0 = No, 1 = Yes)', fontsize=12)\n",
        "plt.ylabel('Count', fontsize=12)\n",
        "plt.legend(title='Gender', labels=['Female', 'Male'])\n",
        "plt.grid(axis='y', linestyle='--', alpha=0.7)\n",
        "plt.show()\n"
      ],
      "metadata": {
        "colab": {
          "base_uri": "https://localhost:8080/",
          "height": 657
        },
        "id": "ZJxU8TXS3FRf",
        "outputId": "a55b486f-5bf5-43a0-a143-ad52c354fdd7"
      },
      "execution_count": 2,
      "outputs": [
        {
          "output_type": "stream",
          "name": "stdout",
          "text": [
            "Mean Survival Rates by Gender:\n",
            "Sex\n",
            "female    0.742038\n",
            "male      0.188908\n",
            "Name: Survived, dtype: float64\n"
          ]
        },
        {
          "output_type": "display_data",
          "data": {
            "text/plain": [
              "<Figure size 1000x600 with 1 Axes>"
            ],
            "image/png": "[encoded data removed]"
          },
          "metadata": {}
        }
      ]
    },
    {
      "cell_type": "code",
      "source": [
        "#Problem5\n",
        "import pandas as pd\n",
        "import seaborn as sns\n",
        "import matplotlib.pyplot as plt\n",
        "\n",
        "# Load the Titanic dataset\n",
        "df = pd.read_csv('/content/drive/MyDrive/Concepts and technology  of AI/ Titanic-Dataset.csv')\n",
        "\n",
        "df = df.dropna(subset=['Embarked', 'Survived'])\n",
        "\n",
        "plt.figure(figsize=(12, 6))\n",
        "sns.histplot(\n",
        "    data=df,\n",
        "    x='Survived',\n",
        "    hue='Embarked',\n",
        "    multiple='stack',\n",
        "    bins=3,\n",
        "    kde=False,\n",
        "    palette='Set2'\n",
        ")\n",
        "plt.title('Survival Distribution by Port of Embarkation', fontsize=16)\n",
        "plt.xlabel('Survived (0 = No, 1 = Yes)', fontsize=12)\n",
        "plt.ylabel('Count', fontsize=12)\n",
        "plt.legend(title='Port of Embarkation', labels=['Cherbourg (C)', 'Queenstown (Q)', 'Southampton (S)'])\n",
        "plt.grid(axis='y', linestyle='--', alpha=0.7)\n",
        "plt.show()\n"
      ],
      "metadata": {
        "colab": {
          "base_uri": "https://localhost:8080/",
          "height": 570
        },
        "id": "LEXWmtwI3i5t",
        "outputId": "366e1a6f-6f81-4690-b2ab-487602423211"
      },
      "execution_count": 4,
      "outputs": [
        {
          "output_type": "display_data",
          "data": {
            "text/plain": [
              "<Figure size 1200x600 with 1 Axes>"
            ],
            "image/png": "[encoded data removed]"
          },
          "metadata": {}
        }
      ]
    }
  ]
}