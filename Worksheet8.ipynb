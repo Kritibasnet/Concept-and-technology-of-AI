{
  "nbformat": 4,
  "nbformat_minor": 0,
  "metadata": {
    "colab": {
      "provenance": []
    },
    "kernelspec": {
      "name": "python3",
      "display_name": "Python 3"
    },
    "language_info": {
      "name": "python"
    }
  },
  "cells": [
    {
      "cell_type": "code",
      "execution_count": 1,
      "metadata": {
        "id": "kLIHAMPc7gTc"
      },
      "outputs": [],
      "source": [
        "import numpy as np\n",
        "\n",
        "class CustomDecisionTree:\n",
        "    def __init__(self, max_depth=None):\n",
        "        \"\"\"\n",
        "        Initializes the decision tree with the specified maximum depth.\n",
        "        Parameters:\n",
        "        max_depth (int, optional): The maximum depth of the tree. If None, the tree is expanded until all\n",
        "        leaves are pure or contain fewer than the minimum samples required to split.\n",
        "        \"\"\"\n",
        "        self.max_depth = max_depth\n",
        "        self.tree = None\n",
        "\n",
        "    def fit(self, X, y):\n",
        "        \"\"\"\n",
        "        Trains the decision tree model using the provided training data.\n",
        "        Parameters:\n",
        "        X (array-like): Feature matrix (n_samples, n_features) for training the model.\n",
        "        y (array-like): Target labels (n_samples,) for training the model.\n",
        "        \"\"\"\n",
        "        self.tree = self._build_tree(X, y)\n",
        "\n",
        "    def _build_tree(self, X, y, depth=0):\n",
        "        \"\"\"\n",
        "        Recursively builds the decision tree by splitting the data based on the best feature and threshold.\n",
        "        Parameters:\n",
        "        X (array-like): Feature matrix (n_samples, n_features) for splitting.\n",
        "        y (array-like): Target labels (n_samples,) for splitting.\n",
        "        depth (int, optional): Current depth of the tree during recursion.\n",
        "        Returns:\n",
        "        dict: A dictionary representing the structure of the tree, containing the best feature index,\n",
        "        threshold, and recursive tree nodes.\n",
        "        \"\"\"\n",
        "        num_samples, num_features = X.shape\n",
        "        unique_classes = np.unique(y)\n",
        "\n",
        "        # Stopping conditions: pure node or reached max depth\n",
        "        if len(unique_classes) == 1:\n",
        "            return {'class': unique_classes[0]}\n",
        "        if num_samples == 0 or (self.max_depth and depth >= self.max_depth):\n",
        "            return {'class': np.bincount(y).argmax()}\n",
        "\n",
        "        # Find the best split based on Information Gain (using Entropy)\n",
        "        best_info_gain = -float('inf')\n",
        "        best_split = None\n",
        "        for feature_idx in range(num_features):\n",
        "            thresholds = np.unique(X[:, feature_idx])\n",
        "            for threshold in thresholds:\n",
        "                left_mask = X[:, feature_idx] <= threshold\n",
        "                right_mask = ~left_mask\n",
        "                left_y = y[left_mask]\n",
        "                right_y = y[right_mask]\n",
        "                info_gain = self._information_gain(y, left_y, right_y)\n",
        "                if info_gain > best_info_gain:\n",
        "                    best_info_gain = info_gain\n",
        "                    best_split = {\n",
        "                        'feature_idx': feature_idx,\n",
        "                        'threshold': threshold,\n",
        "                        'left_X': X[left_mask],\n",
        "                        'left_y': left_y,\n",
        "                        'right_X': X[right_mask],\n",
        "                        'right_y': right_y,\n",
        "                    }\n",
        "\n",
        "        if best_split is None:\n",
        "            return {'class': np.bincount(y).argmax()}\n",
        "\n",
        "        # Recursively build the left and right subtrees\n",
        "        left_tree = self._build_tree(best_split['left_X'], best_split['left_y'], depth + 1)\n",
        "        right_tree = self._build_tree(best_split['right_X'], best_split['right_y'], depth + 1)\n",
        "\n",
        "        return {\n",
        "            'feature_idx': best_split['feature_idx'],\n",
        "            'threshold': best_split['threshold'],\n",
        "            'left_tree': left_tree,\n",
        "            'right_tree': right_tree,\n",
        "        }\n",
        "\n",
        "    def _information_gain(self, parent, left, right):\n",
        "        \"\"\"\n",
        "        Computes the Information Gain between the parent node and the left/right child nodes.\n",
        "        Parameters:\n",
        "        parent (array-like): The labels of the parent node.\n",
        "        left (array-like): The labels of the left child node.\n",
        "        right (array-like): The labels of the right child node.\n",
        "        Returns:\n",
        "        float: The Information Gain of the split.\n",
        "        \"\"\"\n",
        "        parent_entropy = self._entropy(parent)\n",
        "        left_entropy = self._entropy(left)\n",
        "        right_entropy = self._entropy(right)\n",
        "        weighted_avg_entropy = (len(left) / len(parent)) * left_entropy + (len(right) / len(parent)) * right_entropy\n",
        "        return parent_entropy - weighted_avg_entropy\n",
        "\n",
        "    def _entropy(self, y):\n",
        "        \"\"\"\n",
        "        Computes the entropy of a set of labels.\n",
        "        Parameters:\n",
        "        y (array-like): The labels for which entropy is calculated.\n",
        "        Returns:\n",
        "        float: The entropy of the labels.\n",
        "        \"\"\"\n",
        "        class_probs = np.bincount(y) / len(y)\n",
        "        return -np.sum(class_probs * np.log2(class_probs + 1e-9))  # Avoid log(0) with epsilon\n",
        "\n",
        "    def predict(self, X):\n",
        "        \"\"\"\n",
        "        Predicts the target labels for the given test data based on the trained decision tree.\n",
        "        Parameters:\n",
        "        X (array-like): Feature matrix (n_samples, n_features) for prediction.\n",
        "        Returns:\n",
        "        list: A list of predicted target labels (n_samples,).\n",
        "        \"\"\"\n",
        "        return [self._predict_single(x, self.tree) for x in X]\n",
        "\n",
        "    def _predict_single(self, x, tree):\n",
        "        \"\"\"\n",
        "        Recursively predicts the target label for a single sample by traversing the tree.\n",
        "        Parameters:\n",
        "        x (array-like): A single feature vector for prediction.\n",
        "        tree (dict): The current subtree or node to evaluate.\n",
        "        Returns:\n",
        "        int: The predicted class label for the sample.\n",
        "        \"\"\"\n",
        "        if 'class' in tree:\n",
        "            return tree['class']\n",
        "        feature_val = x[tree['feature_idx']]\n",
        "        if feature_val <= tree['threshold']:\n",
        "            return self._predict_single(x, tree['left_tree'])\n",
        "        else:\n",
        "            return self._predict_single(x, tree['right_tree'])\n"
      ]
    },
    {
      "cell_type": "code",
      "source": [
        "import numpy as np\n",
        "import pandas as pd\n",
        "from sklearn.datasets import load_iris\n",
        "from sklearn.model_selection import train_test_split\n",
        "from sklearn.tree import DecisionTreeClassifier\n",
        "from sklearn.metrics import accuracy_score"
      ],
      "metadata": {
        "id": "5I1p5dpx_puC"
      },
      "execution_count": 2,
      "outputs": []
    },
    {
      "cell_type": "code",
      "source": [
        "# Load the Iris dataset\n",
        "data = load_iris()\n",
        "X = data.data\n",
        "y = data.target\n",
        "\n",
        "# Split into training and test sets (80% training, 20% test)\n",
        "X_train, X_test, y_train, y_test = train_test_split(X, y, test_size=0.2, random_state=42)\n"
      ],
      "metadata": {
        "id": "0hXsA4zm_yoJ"
      },
      "execution_count": 3,
      "outputs": []
    },
    {
      "cell_type": "code",
      "source": [
        "# Train the custom decision tree\n",
        "custom_tree = CustomDecisionTree(max_depth=3)\n",
        "custom_tree.fit(X_train, y_train)\n",
        "\n",
        "# Predict on the test set\n",
        "y_pred_custom = custom_tree.predict(X_test)\n",
        "\n",
        "# Calculate accuracy\n",
        "accuracy_custom = accuracy_score(y_test, y_pred_custom)\n",
        "print(f\"Custom Decision Tree Accuracy: {accuracy_custom:.4f}\")"
      ],
      "metadata": {
        "colab": {
          "base_uri": "https://localhost:8080/"
        },
        "id": "aYrnfkejAOx9",
        "outputId": "561c4851-825b-4845-a9de-d0d894e05872"
      },
      "execution_count": 4,
      "outputs": [
        {
          "output_type": "stream",
          "name": "stdout",
          "text": [
            "Custom Decision Tree Accuracy: 1.0000\n"
          ]
        }
      ]
    },
    {
      "cell_type": "code",
      "source": [
        "# Train the Scikit-learn decision tree\n",
        "sklearn_tree = DecisionTreeClassifier(max_depth=3, random_state=42)\n",
        "sklearn_tree.fit(X_train, y_train)\n",
        "\n",
        "# Predict on the test set\n",
        "y_pred_sklearn = sklearn_tree.predict(X_test)\n",
        "\n",
        "# Calculate accuracy\n",
        "accuracy_sklearn = accuracy_score(y_test, y_pred_sklearn)\n",
        "print(f\"Scikit-learn Decision Tree Accuracy: {accuracy_sklearn:.4f}\")\n"
      ],
      "metadata": {
        "colab": {
          "base_uri": "https://localhost:8080/"
        },
        "id": "UnCz5zDtAVMq",
        "outputId": "b31717aa-1a9f-4ed2-ec99-6481f695c4f4"
      },
      "execution_count": 5,
      "outputs": [
        {
          "output_type": "stream",
          "name": "stdout",
          "text": [
            "Scikit-learn Decision Tree Accuracy: 1.0000\n"
          ]
        }
      ]
    },
    {
      "cell_type": "code",
      "source": [
        "# Train the Scikit-learn decision tree\n",
        "sklearn_tree = DecisionTreeClassifier(max_depth=3, random_state=42)\n",
        "sklearn_tree.fit(X_train, y_train)\n",
        "# Predict on the test set\n",
        "y_pred_sklearn = sklearn_tree.predict(X_test)\n",
        "# Calculate accuracy\n",
        "accuracy_sklearn = accuracy_score(y_test, y_pred_sklearn)\n",
        "print(f\"Scikit-learn Decision Tree Accuracy: {accuracy_sklearn:.4f}\")"
      ],
      "metadata": {
        "colab": {
          "base_uri": "https://localhost:8080/"
        },
        "id": "37I9hK3LAetR",
        "outputId": "a2563592-798a-496a-8367-0b8e758e71ae"
      },
      "execution_count": 6,
      "outputs": [
        {
          "output_type": "stream",
          "name": "stdout",
          "text": [
            "Scikit-learn Decision Tree Accuracy: 1.0000\n"
          ]
        }
      ]
    },
    {
      "cell_type": "code",
      "source": [
        "print(f\"Accuracy Comparison:\")\n",
        "print(f\"Custom Decision Tree: {accuracy_custom:.4f}\")\n",
        "print(f\"Scikit-learn Decision Tree: {accuracy_sklearn:.4f}\")\n"
      ],
      "metadata": {
        "colab": {
          "base_uri": "https://localhost:8080/"
        },
        "id": "WnJZY1znAhBA",
        "outputId": "b4d6eece-2cfd-493f-e1e5-b72a0d38e751"
      },
      "execution_count": 7,
      "outputs": [
        {
          "output_type": "stream",
          "name": "stdout",
          "text": [
            "Accuracy Comparison:\n",
            "Custom Decision Tree: 1.0000\n",
            "Scikit-learn Decision Tree: 1.0000\n"
          ]
        }
      ]
    },
    {
      "cell_type": "code",
      "source": [
        "import numpy as np\n",
        "import pandas as pd\n",
        "from sklearn.datasets import load_wine\n",
        "from sklearn.model_selection import train_test_split, GridSearchCV, RandomizedSearchCV\n",
        "from sklearn.tree import DecisionTreeClassifier, DecisionTreeRegressor\n",
        "from sklearn.ensemble import RandomForestClassifier, RandomForestRegressor\n",
        "from sklearn.metrics import f1_score, mean_squared_error\n",
        "\n",
        "# Load Wine Dataset\n",
        "wine = load_wine()\n",
        "X, y = wine.data, wine.target\n",
        "X_train, X_test, y_train, y_test = train_test_split(X, y, test_size=0.2, random_state=42)\n",
        "\n",
        "# 1. Classification Models\n",
        "# Decision Tree Classifier\n",
        "dt_clf = DecisionTreeClassifier(random_state=42)\n",
        "dt_clf.fit(X_train, y_train)\n",
        "y_pred_dt = dt_clf.predict(X_test)\n",
        "f1_dt = f1_score(y_test, y_pred_dt, average='weighted')\n",
        "\n",
        "# Random Forest Classifier\n",
        "rf_clf = RandomForestClassifier(random_state=42)\n",
        "rf_clf.fit(X_train, y_train)\n",
        "y_pred_rf = rf_clf.predict(X_test)\n",
        "f1_rf = f1_score(y_test, y_pred_rf, average='weighted')\n",
        "\n",
        "print(f\"F1 Score - Decision Tree Classifier: {f1_dt}\")\n",
        "print(f\"F1 Score - Random Forest Classifier: {f1_rf}\")\n",
        "\n",
        "# 2. Hyperparameter Tuning for Random Forest Classifier\n",
        "param_grid_rf_clf = {\n",
        "    'n_estimators': [50, 100, 200],\n",
        "    'max_depth': [None, 10, 20, 30],\n",
        "    'min_samples_split': [2, 5, 10]\n",
        "}\n",
        "\n",
        "grid_search_rf_clf = GridSearchCV(RandomForestClassifier(random_state=42), param_grid_rf_clf, cv=3, scoring='f1_weighted')\n",
        "grid_search_rf_clf.fit(X_train, y_train)\n",
        "print(\"Best Parameters for Random Forest Classifier:\", grid_search_rf_clf.best_params_)\n",
        "\n",
        "# 3. Regression Models\n",
        "# Train-Test Split for Regression\n",
        "X_train_reg, X_test_reg, y_train_reg, y_test_reg = train_test_split(X, wine.target, test_size=0.2, random_state=42)\n",
        "\n",
        "# Decision Tree Regressor\n",
        "dt_reg = DecisionTreeRegressor(random_state=42)\n",
        "dt_reg.fit(X_train_reg, y_train_reg)\n",
        "y_pred_dt_reg = dt_reg.predict(X_test_reg)\n",
        "mse_dt_reg = mean_squared_error(y_test_reg, y_pred_dt_reg)\n",
        "\n",
        "# Random Forest Regressor\n",
        "rf_reg = RandomForestRegressor(random_state=42)\n",
        "rf_reg.fit(X_train_reg, y_train_reg)\n",
        "y_pred_rf_reg = rf_reg.predict(X_test_reg)\n",
        "mse_rf_reg = mean_squared_error(y_test_reg, y_pred_rf_reg)\n",
        "\n",
        "print(f\"Mean Squared Error - Decision Tree Regressor: {mse_dt_reg}\")\n",
        "print(f\"Mean Squared Error - Random Forest Regressor: {mse_rf_reg}\")\n",
        "\n",
        "# Hyperparameter Tuning for Random Forest Regressor\n",
        "param_dist_rf_reg = {\n",
        "    'n_estimators': [50, 100, 200, 300],\n",
        "    'max_depth': [None, 10, 20, 30, 40],\n",
        "    'min_samples_split': [2, 5, 10],\n",
        "    'min_samples_leaf': [1, 2, 4]\n",
        "}\n",
        "\n",
        "random_search_rf_reg = RandomizedSearchCV(RandomForestRegressor(random_state=42), param_distributions=param_dist_rf_reg, n_iter=50, cv=3, scoring='neg_mean_squared_error', random_state=42)\n",
        "random_search_rf_reg.fit(X_train_reg, y_train_reg)\n",
        "print(\"Best Parameters for Random Forest Regressor:\", random_search_rf_reg.best_params_)\n"
      ],
      "metadata": {
        "colab": {
          "base_uri": "https://localhost:8080/"
        },
        "id": "CznES553AmYZ",
        "outputId": "2f73814b-7d76-4684-afa5-62ccc57ce84b"
      },
      "execution_count": 8,
      "outputs": [
        {
          "output_type": "stream",
          "name": "stdout",
          "text": [
            "F1 Score - Decision Tree Classifier: 0.9439974457215836\n",
            "F1 Score - Random Forest Classifier: 1.0\n",
            "Best Parameters for Random Forest Classifier: {'max_depth': None, 'min_samples_split': 2, 'n_estimators': 100}\n",
            "Mean Squared Error - Decision Tree Regressor: 0.16666666666666666\n",
            "Mean Squared Error - Random Forest Regressor: 0.06483333333333333\n",
            "Best Parameters for Random Forest Regressor: {'n_estimators': 300, 'min_samples_split': 5, 'min_samples_leaf': 1, 'max_depth': 30}\n"
          ]
        }
      ]
    }
  ]
}